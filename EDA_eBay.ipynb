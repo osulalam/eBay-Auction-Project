{
 "cells": [
  {
   "cell_type": "code",
   "execution_count": 1,
   "metadata": {},
   "outputs": [
    {
     "name": "stdout",
     "output_type": "stream",
     "text": [
      "    auctionid    bid   bidtime                     bidder  bidderrate  \\\n",
      "0  1638893549  175.0  2.230949               schadenfreud         0.0   \n",
      "1  1638893549  100.0  2.600116                      chuik         0.0   \n",
      "2  1638893549  120.0  2.600810                 kiwisstuff         2.0   \n",
      "3  1638893549  150.0  2.601076                 kiwisstuff         2.0   \n",
      "4  1638893549  177.5  2.909826  eli.flint@flightsafety.co         4.0   \n",
      "\n",
      "   openbid  price                item   auction_type  \n",
      "0     99.0  177.5  Cartier wristwatch  3 day auction  \n",
      "1     99.0  177.5  Cartier wristwatch  3 day auction  \n",
      "2     99.0  177.5  Cartier wristwatch  3 day auction  \n",
      "3     99.0  177.5  Cartier wristwatch  3 day auction  \n",
      "4     99.0  177.5  Cartier wristwatch  3 day auction   (10681, 9)\n"
     ]
    }
   ],
   "source": [
    "import pandas as pd\n",
    "\n",
    "auction=pd.read_csv(r\"C:\\Users\\Osula\\Documents\\School\\Spring 2017\\574 - Data Mining\\574 Final Project\\Data\\Original\\auction.csv\")\n",
    "print(auction.head(), auction.shape)"
   ]
  },
  {
   "cell_type": "code",
   "execution_count": 2,
   "metadata": {},
   "outputs": [
    {
     "data": {
      "text/plain": [
       "dtype('int64')"
      ]
     },
     "execution_count": 2,
     "metadata": {},
     "output_type": "execute_result"
    }
   ],
   "source": [
    "auction.auctionid.dtype"
   ]
  },
  {
   "cell_type": "code",
   "execution_count": 3,
   "metadata": {},
   "outputs": [
    {
     "data": {
      "text/plain": [
       "auctionid        0\n",
       "bid              0\n",
       "bidtime          0\n",
       "bidder          16\n",
       "bidderrate      11\n",
       "openbid          0\n",
       "price            0\n",
       "item             0\n",
       "auction_type     0\n",
       "dtype: int64"
      ]
     },
     "execution_count": 3,
     "metadata": {},
     "output_type": "execute_result"
    }
   ],
   "source": [
    "auction.isnull().sum()"
   ]
  },
  {
   "cell_type": "code",
   "execution_count": 4,
   "metadata": {},
   "outputs": [
    {
     "name": "stdout",
     "output_type": "stream",
     "text": [
      "<class 'pandas.core.series.Series'> 0        False\n",
      "1        False\n",
      "2        False\n",
      "3        False\n",
      "4        False\n",
      "5        False\n",
      "6        False\n",
      "7        False\n",
      "8        False\n",
      "9        False\n",
      "10       False\n",
      "11       False\n",
      "12       False\n",
      "13       False\n",
      "14       False\n",
      "15       False\n",
      "16       False\n",
      "17       False\n",
      "18       False\n",
      "19       False\n",
      "20       False\n",
      "21       False\n",
      "22       False\n",
      "23       False\n",
      "24       False\n",
      "25       False\n",
      "26       False\n",
      "27       False\n",
      "28       False\n",
      "29       False\n",
      "         ...  \n",
      "10651    False\n",
      "10652    False\n",
      "10653    False\n",
      "10654    False\n",
      "10655    False\n",
      "10656    False\n",
      "10657    False\n",
      "10658    False\n",
      "10659    False\n",
      "10660    False\n",
      "10661    False\n",
      "10662    False\n",
      "10663    False\n",
      "10664    False\n",
      "10665    False\n",
      "10666    False\n",
      "10667    False\n",
      "10668    False\n",
      "10669    False\n",
      "10670    False\n",
      "10671    False\n",
      "10672    False\n",
      "10673    False\n",
      "10674    False\n",
      "10675    False\n",
      "10676    False\n",
      "10677    False\n",
      "10678    False\n",
      "10679    False\n",
      "10680    False\n",
      "Length: 10681, dtype: bool\n",
      "        auctionid     bid   bidtime     bidder  bidderrate  openbid  price  \\\n",
      "8168   8213922989   77.00  2.458229        NaN         2.0     0.95   93.0   \n",
      "8169   8213922989   80.00  2.458403        NaN         2.0     0.95   93.0   \n",
      "8170   8213922989   90.00  2.458623        NaN         2.0     0.95   93.0   \n",
      "8174   8213922989   93.00  2.971597        NaN         2.0     0.95   93.0   \n",
      "8999   8212140993  135.00  6.402141  mac_ranch         NaN     9.99  306.0   \n",
      "9000   8212140993  145.00  6.402384  mac_ranch         NaN     9.99  306.0   \n",
      "9139   8212190120   22.22  4.537535    Private         NaN    12.99   28.0   \n",
      "9140   8212190120   15.00  4.769734    Private         NaN    12.99   28.0   \n",
      "9141   8212190120   22.00  4.769815    Private         NaN    12.99   28.0   \n",
      "9142   8212190120   22.72  6.738773    Private         NaN    12.99   28.0   \n",
      "9143   8212190120   24.00  6.753611    Private         NaN    12.99   28.0   \n",
      "9144   8212190120   25.00  6.857685    Private         NaN    12.99   28.0   \n",
      "9145   8212190120   25.00  6.943333    Private         NaN    12.99   28.0   \n",
      "9146   8212190120   28.00  6.989757    Private         NaN    12.99   28.0   \n",
      "9147   8212190120   27.00  6.999931    Private         NaN    12.99   28.0   \n",
      "10002  8213037774   90.00  6.559074        NaN         2.0     1.00  127.5   \n",
      "10004  8213037774   95.00  6.657049        NaN         2.0     1.00  127.5   \n",
      "10005  8213037774  100.00  6.657188        NaN         2.0     1.00  127.5   \n",
      "10007  8213037774  105.00  6.665648        NaN         2.0     1.00  127.5   \n",
      "10008  8213037774  110.00  6.665810        NaN         2.0     1.00  127.5   \n",
      "10009  8213037774  115.00  6.665949        NaN         2.0     1.00  127.5   \n",
      "10011  8213037774  120.00  6.684167        NaN         2.0     1.00  127.5   \n",
      "10329  8214330322   55.00  6.244745        NaN         1.0     0.99  117.5   \n",
      "10330  8214330322   60.00  6.245116        NaN         1.0     0.99  117.5   \n",
      "10331  8214330322   70.00  6.245231        NaN         1.0     0.99  117.5   \n",
      "10464  8214749544   60.00  5.038843        NaN         1.0     9.99  119.5   \n",
      "10465  8214749544   65.00  5.038993        NaN         1.0     9.99  119.5   \n",
      "\n",
      "                    item   auction_type  \n",
      "8168   Xbox game console  3 day auction  \n",
      "8169   Xbox game console  3 day auction  \n",
      "8170   Xbox game console  3 day auction  \n",
      "8174   Xbox game console  3 day auction  \n",
      "8999   Xbox game console  7 day auction  \n",
      "9000   Xbox game console  7 day auction  \n",
      "9139   Xbox game console  7 day auction  \n",
      "9140   Xbox game console  7 day auction  \n",
      "9141   Xbox game console  7 day auction  \n",
      "9142   Xbox game console  7 day auction  \n",
      "9143   Xbox game console  7 day auction  \n",
      "9144   Xbox game console  7 day auction  \n",
      "9145   Xbox game console  7 day auction  \n",
      "9146   Xbox game console  7 day auction  \n",
      "9147   Xbox game console  7 day auction  \n",
      "10002  Xbox game console  7 day auction  \n",
      "10004  Xbox game console  7 day auction  \n",
      "10005  Xbox game console  7 day auction  \n",
      "10007  Xbox game console  7 day auction  \n",
      "10008  Xbox game console  7 day auction  \n",
      "10009  Xbox game console  7 day auction  \n",
      "10011  Xbox game console  7 day auction  \n",
      "10329  Xbox game console  7 day auction  \n",
      "10330  Xbox game console  7 day auction  \n",
      "10331  Xbox game console  7 day auction  \n",
      "10464  Xbox game console  7 day auction  \n",
      "10465  Xbox game console  7 day auction   (27, 9)\n"
     ]
    }
   ],
   "source": [
    "missing = pd.isnull(auction).any(axis=1)\n",
    "print(type(missing), missing)\n",
    "print(auction[missing], auction[missing].shape)"
   ]
  },
  {
   "cell_type": "code",
   "execution_count": 5,
   "metadata": {},
   "outputs": [
    {
     "data": {
      "text/html": [
       "<div>\n",
       "<style>\n",
       "    .dataframe thead tr:only-child th {\n",
       "        text-align: right;\n",
       "    }\n",
       "\n",
       "    .dataframe thead th {\n",
       "        text-align: left;\n",
       "    }\n",
       "\n",
       "    .dataframe tbody tr th {\n",
       "        vertical-align: top;\n",
       "    }\n",
       "</style>\n",
       "<table border=\"1\" class=\"dataframe\">\n",
       "  <thead>\n",
       "    <tr style=\"text-align: right;\">\n",
       "      <th></th>\n",
       "      <th>auctionid</th>\n",
       "      <th>bid</th>\n",
       "      <th>bidtime</th>\n",
       "      <th>bidder</th>\n",
       "      <th>bidderrate</th>\n",
       "      <th>openbid</th>\n",
       "      <th>price</th>\n",
       "      <th>item</th>\n",
       "      <th>auction_type</th>\n",
       "    </tr>\n",
       "  </thead>\n",
       "  <tbody>\n",
       "    <tr>\n",
       "      <th>8168</th>\n",
       "      <td>8213922989</td>\n",
       "      <td>77.0</td>\n",
       "      <td>2.458229</td>\n",
       "      <td>NaN</td>\n",
       "      <td>2.0</td>\n",
       "      <td>0.95</td>\n",
       "      <td>93.0</td>\n",
       "      <td>Xbox game console</td>\n",
       "      <td>3 day auction</td>\n",
       "    </tr>\n",
       "    <tr>\n",
       "      <th>8169</th>\n",
       "      <td>8213922989</td>\n",
       "      <td>80.0</td>\n",
       "      <td>2.458403</td>\n",
       "      <td>NaN</td>\n",
       "      <td>2.0</td>\n",
       "      <td>0.95</td>\n",
       "      <td>93.0</td>\n",
       "      <td>Xbox game console</td>\n",
       "      <td>3 day auction</td>\n",
       "    </tr>\n",
       "    <tr>\n",
       "      <th>8170</th>\n",
       "      <td>8213922989</td>\n",
       "      <td>90.0</td>\n",
       "      <td>2.458623</td>\n",
       "      <td>NaN</td>\n",
       "      <td>2.0</td>\n",
       "      <td>0.95</td>\n",
       "      <td>93.0</td>\n",
       "      <td>Xbox game console</td>\n",
       "      <td>3 day auction</td>\n",
       "    </tr>\n",
       "    <tr>\n",
       "      <th>8174</th>\n",
       "      <td>8213922989</td>\n",
       "      <td>93.0</td>\n",
       "      <td>2.971597</td>\n",
       "      <td>NaN</td>\n",
       "      <td>2.0</td>\n",
       "      <td>0.95</td>\n",
       "      <td>93.0</td>\n",
       "      <td>Xbox game console</td>\n",
       "      <td>3 day auction</td>\n",
       "    </tr>\n",
       "    <tr>\n",
       "      <th>8999</th>\n",
       "      <td>8212140993</td>\n",
       "      <td>135.0</td>\n",
       "      <td>6.402141</td>\n",
       "      <td>mac_ranch</td>\n",
       "      <td>NaN</td>\n",
       "      <td>9.99</td>\n",
       "      <td>306.0</td>\n",
       "      <td>Xbox game console</td>\n",
       "      <td>7 day auction</td>\n",
       "    </tr>\n",
       "  </tbody>\n",
       "</table>\n",
       "</div>"
      ],
      "text/plain": [
       "       auctionid    bid   bidtime     bidder  bidderrate  openbid  price  \\\n",
       "8168  8213922989   77.0  2.458229        NaN         2.0     0.95   93.0   \n",
       "8169  8213922989   80.0  2.458403        NaN         2.0     0.95   93.0   \n",
       "8170  8213922989   90.0  2.458623        NaN         2.0     0.95   93.0   \n",
       "8174  8213922989   93.0  2.971597        NaN         2.0     0.95   93.0   \n",
       "8999  8212140993  135.0  6.402141  mac_ranch         NaN     9.99  306.0   \n",
       "\n",
       "                   item   auction_type  \n",
       "8168  Xbox game console  3 day auction  \n",
       "8169  Xbox game console  3 day auction  \n",
       "8170  Xbox game console  3 day auction  \n",
       "8174  Xbox game console  3 day auction  \n",
       "8999  Xbox game console  7 day auction  "
      ]
     },
     "execution_count": 5,
     "metadata": {},
     "output_type": "execute_result"
    }
   ],
   "source": [
    "missing1 = auction[missing]\n",
    "missing1.head()"
   ]
  },
  {
   "cell_type": "markdown",
   "metadata": {},
   "source": [
    "Want to see if there is a difference in closing price among missing and non-missing bidderrate"
   ]
  },
  {
   "cell_type": "code",
   "execution_count": 6,
   "metadata": {},
   "outputs": [
    {
     "name": "stdout",
     "output_type": "stream",
     "text": [
      "                bid       bidtime    bidderrate       openbid         price\n",
      "count  10681.000000  10681.000000  10670.000000  10681.000000  10681.000000\n",
      "mean     207.586109      3.979628     31.936739     52.246256    335.043589\n",
      "std      323.037396      2.353386    120.594074    168.453245    433.566009\n",
      "min        0.010000      0.000567     -4.000000      0.010000     26.000000\n",
      "25%       72.000000      1.949931      1.000000      1.000000    186.510000\n",
      "50%      140.000000      4.140833      5.000000      4.990000    228.490000\n",
      "75%      210.000000      6.448060     21.000000     50.000000    255.000000\n",
      "max     5400.000000      6.999990   3140.000000   5000.000000   5400.000000\n",
      "Index(['bid', 'bidtime', 'bidderrate', 'openbid', 'price'], dtype='object')\n",
      "bid            5.380043\n",
      "bidtime       -0.144428\n",
      "bidderrate    12.856195\n",
      "openbid       13.500984\n",
      "price          4.207051\n",
      "dtype: float64\n"
     ]
    }
   ],
   "source": [
    "stats=auction.drop('auctionid', axis=1).describe()\n",
    "print(stats)\n",
    "nf = stats.columns\n",
    "print(nf)\n",
    "print(auction[nf].skew())"
   ]
  },
  {
   "cell_type": "code",
   "execution_count": 7,
   "metadata": {},
   "outputs": [
    {
     "data": {
      "text/plain": [
       "0    0.0\n",
       "dtype: float64"
      ]
     },
     "execution_count": 7,
     "metadata": {},
     "output_type": "execute_result"
    }
   ],
   "source": [
    "auction['bidderrate'].mode()"
   ]
  },
  {
   "cell_type": "code",
   "execution_count": 8,
   "metadata": {},
   "outputs": [
    {
     "name": "stdout",
     "output_type": "stream",
     "text": [
      "        auctionid    bid   bidtime bidder  bidderrate  openbid  price  \\\n",
      "8168   8213922989   77.0  2.458229    NaN         2.0     0.95   93.0   \n",
      "8169   8213922989   80.0  2.458403    NaN         2.0     0.95   93.0   \n",
      "8170   8213922989   90.0  2.458623    NaN         2.0     0.95   93.0   \n",
      "8174   8213922989   93.0  2.971597    NaN         2.0     0.95   93.0   \n",
      "10002  8213037774   90.0  6.559074    NaN         2.0     1.00  127.5   \n",
      "10004  8213037774   95.0  6.657049    NaN         2.0     1.00  127.5   \n",
      "10005  8213037774  100.0  6.657188    NaN         2.0     1.00  127.5   \n",
      "10007  8213037774  105.0  6.665648    NaN         2.0     1.00  127.5   \n",
      "10008  8213037774  110.0  6.665810    NaN         2.0     1.00  127.5   \n",
      "10009  8213037774  115.0  6.665949    NaN         2.0     1.00  127.5   \n",
      "10011  8213037774  120.0  6.684167    NaN         2.0     1.00  127.5   \n",
      "10329  8214330322   55.0  6.244745    NaN         1.0     0.99  117.5   \n",
      "10330  8214330322   60.0  6.245116    NaN         1.0     0.99  117.5   \n",
      "10331  8214330322   70.0  6.245231    NaN         1.0     0.99  117.5   \n",
      "10464  8214749544   60.0  5.038843    NaN         1.0     9.99  119.5   \n",
      "10465  8214749544   65.0  5.038993    NaN         1.0     9.99  119.5   \n",
      "\n",
      "                    item   auction_type  \n",
      "8168   Xbox game console  3 day auction  \n",
      "8169   Xbox game console  3 day auction  \n",
      "8170   Xbox game console  3 day auction  \n",
      "8174   Xbox game console  3 day auction  \n",
      "10002  Xbox game console  7 day auction  \n",
      "10004  Xbox game console  7 day auction  \n",
      "10005  Xbox game console  7 day auction  \n",
      "10007  Xbox game console  7 day auction  \n",
      "10008  Xbox game console  7 day auction  \n",
      "10009  Xbox game console  7 day auction  \n",
      "10011  Xbox game console  7 day auction  \n",
      "10329  Xbox game console  7 day auction  \n",
      "10330  Xbox game console  7 day auction  \n",
      "10331  Xbox game console  7 day auction  \n",
      "10464  Xbox game console  7 day auction  \n",
      "10465  Xbox game console  7 day auction   (16, 9)\n"
     ]
    }
   ],
   "source": [
    "auction = auction.fillna({'bidderrate': 5.0}, inplace=True)\n",
    "missing1 = pd.isnull(auction).any(axis=1)\n",
    "print(auction[missing1], auction[missing1].shape)"
   ]
  },
  {
   "cell_type": "code",
   "execution_count": 9,
   "metadata": {},
   "outputs": [
    {
     "name": "stdout",
     "output_type": "stream",
     "text": [
      "Text(0.5,1,'bid')\n"
     ]
    },
    {
     "data": {
      "image/png": "[encoded data removed]",
      "text/plain": [
       "<matplotlib.figure.Figure at 0x2069f38a6d8>"
      ]
     },
     "metadata": {},
     "output_type": "display_data"
    },
    {
     "name": "stdout",
     "output_type": "stream",
     "text": [
      "None\n",
      "Text(0.5,1,'bidtime')\n"
     ]
    },
    {
     "data": {
      "image/png": "[encoded data removed]",
      "text/plain": [
       "<matplotlib.figure.Figure at 0x206a3d6f4e0>"
      ]
     },
     "metadata": {},
     "output_type": "display_data"
    },
    {
     "name": "stdout",
     "output_type": "stream",
     "text": [
      "None\n",
      "Text(0.5,1,'bidderrate')\n"
     ]
    },
    {
     "data": {
      "image/png": "[encoded data removed]",
      "text/plain": [
       "<matplotlib.figure.Figure at 0x206a3df24e0>"
      ]
     },
     "metadata": {},
     "output_type": "display_data"
    },
    {
     "name": "stdout",
     "output_type": "stream",
     "text": [
      "None\n",
      "Text(0.5,1,'openbid')\n"
     ]
    },
    {
     "data": {
      "image/png": "[encoded data removed]",
      "text/plain": [
       "<matplotlib.figure.Figure at 0x206a41591d0>"
      ]
     },
     "metadata": {},
     "output_type": "display_data"
    },
    {
     "name": "stdout",
     "output_type": "stream",
     "text": [
      "None\n",
      "Text(0.5,1,'price')\n"
     ]
    },
    {
     "data": {
      "image/png": "[encoded data removed]",
      "text/plain": [
       "<matplotlib.figure.Figure at 0x206a40d0a58>"
      ]
     },
     "metadata": {},
     "output_type": "display_data"
    },
    {
     "name": "stdout",
     "output_type": "stream",
     "text": [
      "None\n"
     ]
    }
   ],
   "source": [
    "import matplotlib.pyplot as plt\n",
    "\n",
    "for i in auction[nf].columns:\n",
    "    print(plt.title('%s' %i))\n",
    "    plt.hist(auction[i], bins=100, normed=True)\n",
    "    plt.tight_layout()\n",
    "    print(plt.show())"
   ]
  },
  {
   "cell_type": "code",
   "execution_count": 10,
   "metadata": {},
   "outputs": [
    {
     "name": "stdout",
     "output_type": "stream",
     "text": [
      "Index(['bidder', 'item', 'auction_type'], dtype='object')\n",
      "              bidder                 item   auction_type\n",
      "count          10665                10681          10681\n",
      "unique          3387                    3              3\n",
      "top     warrencheryl  Palm Pilot M515 PDA  7 day auction\n",
      "freq              45                 5917           7041\n"
     ]
    }
   ],
   "source": [
    "cf = auction.select_dtypes(include=['object']).columns\n",
    "print(cf)\n",
    "print(auction[cf].describe())"
   ]
  },
  {
   "cell_type": "code",
   "execution_count": 11,
   "metadata": {},
   "outputs": [
    {
     "name": "stdout",
     "output_type": "stream",
     "text": [
      "8214355679    75\n",
      "8212629520    57\n",
      "3023174478    54\n",
      "3020532816    51\n",
      "8212602164    50\n",
      "1644594033    46\n",
      "3018788243    45\n",
      "3024823511    45\n",
      "8212359174    45\n",
      "8214330322    44\n",
      "8212236671    43\n",
      "3016342535    43\n",
      "1649028956    42\n",
      "3018594562    42\n",
      "3023748273    42\n",
      "8212140993    42\n",
      "3024124623    41\n",
      "3025665574    41\n",
      "1650406935    41\n",
      "1640809333    40\n",
      "3025307420    40\n",
      "3024165142    40\n",
      "3022352711    39\n",
      "3024676416    38\n",
      "8213188385    38\n",
      "8212903781    38\n",
      "8214275008    38\n",
      "3019540740    38\n",
      "3026374373    37\n",
      "3025473203    37\n",
      "              ..\n",
      "1647567213     2\n",
      "1649845539     2\n",
      "3025598698     2\n",
      "3020382619     2\n",
      "1639425502     2\n",
      "1641457876     2\n",
      "3022785804     2\n",
      "3015358053     2\n",
      "1649808226     2\n",
      "3023920921     1\n",
      "3025866584     1\n",
      "3024504428     1\n",
      "3015594808     1\n",
      "3018740612     1\n",
      "3023652961     1\n",
      "3025639289     1\n",
      "3018061782     1\n",
      "3019821308     1\n",
      "3025035412     1\n",
      "3015010479     1\n",
      "3016330514     1\n",
      "3015513123     1\n",
      "3016587753     1\n",
      "3020269225     1\n",
      "3024121735     1\n",
      "3024122118     1\n",
      "3024889358     1\n",
      "3023183955     1\n",
      "3025036419     1\n",
      "3022018351     1\n",
      "Name: auctionid, Length: 628, dtype: int64\n"
     ]
    }
   ],
   "source": [
    "print(auction['auctionid'].value_counts())"
   ]
  },
  {
   "cell_type": "code",
   "execution_count": 12,
   "metadata": {},
   "outputs": [
    {
     "name": "stdout",
     "output_type": "stream",
     "text": [
      "---- bidder ----\n",
      "warrencheryl               45\n",
      "zebedin                    33\n",
      "mregestr                   33\n",
      "babygirljrt                32\n",
      "macdonn                    31\n",
      "hawkswimmers               30\n",
      "camotor1@aol.com           29\n",
      "lass1004                   29\n",
      "fil321blue                 28\n",
      "shortstuff_96              28\n",
      "restdynamics               27\n",
      "golfergray                 27\n",
      "dido-jan                   26\n",
      "jmhboots                   25\n",
      "leehoop555                 25\n",
      "tabmeout                   24\n",
      "kc10                       24\n",
      "reharrell                  24\n",
      "juanjose98                 23\n",
      "mniffin01                  23\n",
      "playa11229                 23\n",
      "madorganist@yahoo.com      23\n",
      "mikeyokred                 23\n",
      "jonkocinski                23\n",
      "ccsicandy                  22\n",
      "mav4749                    22\n",
      "dopplebock43               22\n",
      "cowgirllucky               21\n",
      "chimam                     21\n",
      "cntrygl29                  21\n",
      "                           ..\n",
      "debofr                      1\n",
      "nbw123                      1\n",
      "roticss                     1\n",
      "arthes                      1\n",
      "roberts7@mindspring.com     1\n",
      "drjmitch                    1\n",
      "traodoi626                  1\n",
      "germanojp                   1\n",
      "be4real0                    1\n",
      "walkabout2                  1\n",
      "100buyer                    1\n",
      "joemzak                     1\n",
      "robbyblazes4020             1\n",
      "bjam70                      1\n",
      "traci7471                   1\n",
      "fossil73                    1\n",
      "just-a-princess             1\n",
      "gsrescuedog                 1\n",
      "kengin2000                  1\n",
      "biged091371                 1\n",
      "454firebird                 1\n",
      "9lights                     1\n",
      "welty1golfer303             1\n",
      "ubreal2                     1\n",
      "diamonddr1@aol.com          1\n",
      "hands157                    1\n",
      "jkammerer                   1\n",
      "wmgirl333                   1\n",
      "heres2you                   1\n",
      "paulleetan                  1\n",
      "Name: bidder, Length: 3387, dtype: int64\n",
      "---- item ----\n",
      "Palm Pilot M515 PDA    5917\n",
      "Xbox game console      2811\n",
      "Cartier wristwatch     1953\n",
      "Name: item, dtype: int64\n",
      "---- auction_type ----\n",
      "7 day auction    7041\n",
      "3 day auction    2023\n",
      "5 day auction    1617\n",
      "Name: auction_type, dtype: int64\n"
     ]
    }
   ],
   "source": [
    "for i in auction[cf].columns:\n",
    "    print('---- %s ----' % i)\n",
    "    print(auction[i].value_counts())"
   ]
  },
  {
   "cell_type": "code",
   "execution_count": 13,
   "metadata": {},
   "outputs": [
    {
     "name": "stdout",
     "output_type": "stream",
     "text": [
      "               auctionid\n",
      "auction_type            \n",
      "3 day auction        148\n",
      "5 day auction         96\n",
      "7 day auction        384\n"
     ]
    },
    {
     "data": {
      "image/png": "[encoded data removed]",
      "text/plain": [
       "<matplotlib.figure.Figure at 0x206a4055a90>"
      ]
     },
     "metadata": {},
     "output_type": "display_data"
    }
   ],
   "source": [
    "# Number of unique auctions for different auction types\n",
    "num_type=auction.groupby('auction_type')['auctionid'].nunique()\n",
    "# converts num_type series into a DataFrame\n",
    "num_type=num_type.to_frame()\n",
    "print(num_type)\n",
    "\n",
    "import matplotlib.pyplot as plt\n",
    "\n",
    "# Create a list of colors (from iWantHue)\n",
    "colors=['#5ABA10', '#FE110E','#CA5C05']\n",
    "# Create a pie chart\n",
    "plt.pie(\n",
    "    num_type['auctionid'],\n",
    "    # df.index will output the row names as pandas Index object\n",
    "    labels=num_type.index,\n",
    "    # with no shadows\n",
    "    shadow=False,\n",
    "    # with colors\n",
    "   colors=colors,\n",
    "    # with the percent listed as a fraction autopct='%1.1f%%' = 10.1% while '%.0f%%' = 10%\n",
    "    autopct='%1.1f%%',\n",
    "    )\n",
    "\n",
    "# when not 'equal' plot may not look like a circle\n",
    "plt.axis('equal')\n",
    "\n",
    "# Auto adjusts overlapping axes when there are one or multiple plots so you can see all labels\n",
    "plt.tight_layout()\n",
    "plt.show()"
   ]
  },
  {
   "cell_type": "code",
   "execution_count": 18,
   "metadata": {},
   "outputs": [
    {
     "data": {
      "text/plain": [
       "<matplotlib.axes._subplots.AxesSubplot at 0x206a4146048>"
      ]
     },
     "execution_count": 18,
     "metadata": {},
     "output_type": "execute_result"
    }
   ],
   "source": [
    "#auction.groupby('bidder').price.mean().plot(kind='bar', title='Average')"
   ]
  }
 ],
 "metadata": {
  "kernelspec": {
   "display_name": "Python 3",
   "language": "python",
   "name": "python3"
  },
  "language_info": {
   "codemirror_mode": {
    "name": "ipython",
    "version": 3
   },
   "file_extension": ".py",
   "mimetype": "text/x-python",
   "name": "python",
   "nbconvert_exporter": "python",
   "pygments_lexer": "ipython3",
   "version": "3.5.3"
  }
 },
 "nbformat": 4,
 "nbformat_minor": 2
}
